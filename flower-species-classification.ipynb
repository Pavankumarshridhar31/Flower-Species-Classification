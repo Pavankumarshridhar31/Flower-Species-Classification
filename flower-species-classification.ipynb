{
 "cells": [
  {
   "cell_type": "code",
   "execution_count": 1,
   "id": "c0049f4b",
   "metadata": {
    "_cell_guid": "b1076dfc-b9ad-4769-8c92-a6c4dae69d19",
    "_uuid": "8f2839f25d086af736a60e9eeb907d3b93b6e0e5",
    "execution": {
     "iopub.execute_input": "2024-07-30T11:43:58.837889Z",
     "iopub.status.busy": "2024-07-30T11:43:58.836431Z",
     "iopub.status.idle": "2024-07-30T11:44:01.774855Z",
     "shell.execute_reply": "2024-07-30T11:44:01.773501Z"
    },
    "papermill": {
     "duration": 2.947116,
     "end_time": "2024-07-30T11:44:01.777968",
     "exception": false,
     "start_time": "2024-07-30T11:43:58.830852",
     "status": "completed"
    },
    "tags": []
   },
   "outputs": [],
   "source": [
    "import pandas as pd\n",
    "from sklearn.model_selection import train_test_split\n",
    "from sklearn.preprocessing import LabelEncoder, OneHotEncoder, StandardScaler\n",
    "from sklearn.compose import ColumnTransformer\n",
    "from sklearn.pipeline import Pipeline\n",
    "from sklearn.ensemble import RandomForestClassifier\n",
    "from sklearn.linear_model import LogisticRegression\n",
    "from sklearn.svm import SVC\n",
    "from sklearn.neighbors import KNeighborsClassifier\n",
    "from sklearn.metrics import accuracy_score, classification_report\n",
    "from sklearn.metrics import accuracy_score, classification_report\n"
   ]
  },
  {
   "cell_type": "code",
   "execution_count": 2,
   "id": "a4fa95c0",
   "metadata": {
    "execution": {
     "iopub.execute_input": "2024-07-30T11:44:01.787226Z",
     "iopub.status.busy": "2024-07-30T11:44:01.786276Z",
     "iopub.status.idle": "2024-07-30T11:44:01.836442Z",
     "shell.execute_reply": "2024-07-30T11:44:01.835185Z"
    },
    "papermill": {
     "duration": 0.05796,
     "end_time": "2024-07-30T11:44:01.839352",
     "exception": false,
     "start_time": "2024-07-30T11:44:01.781392",
     "status": "completed"
    },
    "tags": []
   },
   "outputs": [
    {
     "name": "stdout",
     "output_type": "stream",
     "text": [
      "           species    size fragrance  height_cm\n",
      "0             rose  medium      mild      48.55\n",
      "1  shoeblack plant  medium      mild     147.07\n",
      "2  shoeblack plant  medium      none     102.93\n",
      "3         hibiscus   large      none     184.00\n",
      "4  shoeblack plant   large      mild      83.07\n",
      "(10000, 4)\n"
     ]
    }
   ],
   "source": [
    "## Load the dataset\n",
    "df = pd.read_csv('/kaggle/input/flower-dataset/flower_dataset.csv')\n",
    "print(df.head())\n",
    "print(df.shape)"
   ]
  },
  {
   "cell_type": "code",
   "execution_count": 3,
   "id": "81d704c0",
   "metadata": {
    "execution": {
     "iopub.execute_input": "2024-07-30T11:44:01.847938Z",
     "iopub.status.busy": "2024-07-30T11:44:01.847485Z",
     "iopub.status.idle": "2024-07-30T11:44:01.858558Z",
     "shell.execute_reply": "2024-07-30T11:44:01.857101Z"
    },
    "papermill": {
     "duration": 0.018827,
     "end_time": "2024-07-30T11:44:01.861491",
     "exception": false,
     "start_time": "2024-07-30T11:44:01.842664",
     "status": "completed"
    },
    "tags": []
   },
   "outputs": [],
   "source": [
    "# encode the categorical features\n",
    "preprocessor = ColumnTransformer(\n",
    "    transformers=[\n",
    "        ('cat', OneHotEncoder(), ['size', 'fragrance'])\n",
    "    ],\n",
    "    remainder='passthrough'\n",
    ")\n",
    "\n",
    "# encode the target variable\n",
    "label_encoder = LabelEncoder()\n",
    "df['species'] = label_encoder.fit_transform(df['species'])\n"
   ]
  },
  {
   "cell_type": "code",
   "execution_count": 4,
   "id": "a8d9f654",
   "metadata": {
    "execution": {
     "iopub.execute_input": "2024-07-30T11:44:01.870237Z",
     "iopub.status.busy": "2024-07-30T11:44:01.869793Z",
     "iopub.status.idle": "2024-07-30T11:44:01.889182Z",
     "shell.execute_reply": "2024-07-30T11:44:01.887907Z"
    },
    "papermill": {
     "duration": 0.027378,
     "end_time": "2024-07-30T11:44:01.892161",
     "exception": false,
     "start_time": "2024-07-30T11:44:01.864783",
     "status": "completed"
    },
    "tags": []
   },
   "outputs": [],
   "source": [
    "# split the data into features (X) and target (y)\n",
    "X = df.drop('species', axis=1)\n",
    "y = df['species']\n",
    "\n",
    "# split the data into training and testing sets\n",
    "X_train, X_test, y_train, y_test = train_test_split(X, y, test_size=0.2, random_state=42)\n"
   ]
  },
  {
   "cell_type": "code",
   "execution_count": 5,
   "id": "83eee36e",
   "metadata": {
    "execution": {
     "iopub.execute_input": "2024-07-30T11:44:01.900551Z",
     "iopub.status.busy": "2024-07-30T11:44:01.900092Z",
     "iopub.status.idle": "2024-07-30T11:44:04.097759Z",
     "shell.execute_reply": "2024-07-30T11:44:04.096264Z"
    },
    "papermill": {
     "duration": 2.205263,
     "end_time": "2024-07-30T11:44:04.100646",
     "exception": false,
     "start_time": "2024-07-30T11:44:01.895383",
     "status": "completed"
    },
    "tags": []
   },
   "outputs": [
    {
     "name": "stdout",
     "output_type": "stream",
     "text": [
      "\n",
      "Model: Random Forest\n",
      "Accuracy: 87.65%\n",
      "Classification Report:\n",
      "                 precision    recall  f1-score   support\n",
      "\n",
      "       hibiscus       0.88      0.91      0.89       647\n",
      "           rose       0.92      0.92      0.92       654\n",
      "shoeblack plant       0.84      0.80      0.82       699\n",
      "\n",
      "       accuracy                           0.88      2000\n",
      "      macro avg       0.88      0.88      0.88      2000\n",
      "   weighted avg       0.88      0.88      0.88      2000\n",
      "\n",
      "\n",
      "Model: Logistic Regression\n",
      "Accuracy: 90.75%\n",
      "Classification Report:\n",
      "                 precision    recall  f1-score   support\n",
      "\n",
      "       hibiscus       0.87      1.00      0.93       647\n",
      "           rose       0.93      0.93      0.93       654\n",
      "shoeblack plant       0.92      0.80      0.86       699\n",
      "\n",
      "       accuracy                           0.91      2000\n",
      "      macro avg       0.91      0.91      0.91      2000\n",
      "   weighted avg       0.91      0.91      0.91      2000\n",
      "\n",
      "\n",
      "Model: Support Vector Machine\n",
      "Accuracy: 89.80%\n",
      "Classification Report:\n",
      "                 precision    recall  f1-score   support\n",
      "\n",
      "       hibiscus       0.85      1.00      0.92       647\n",
      "           rose       0.91      0.96      0.93       654\n",
      "shoeblack plant       0.95      0.74      0.84       699\n",
      "\n",
      "       accuracy                           0.90      2000\n",
      "      macro avg       0.90      0.90      0.90      2000\n",
      "   weighted avg       0.90      0.90      0.89      2000\n",
      "\n",
      "\n",
      "Model: K-Nearest Neighbors\n",
      "Accuracy: 89.30%\n",
      "Classification Report:\n",
      "                 precision    recall  f1-score   support\n",
      "\n",
      "       hibiscus       0.87      0.97      0.92       647\n",
      "           rose       0.92      0.93      0.92       654\n",
      "shoeblack plant       0.89      0.79      0.84       699\n",
      "\n",
      "       accuracy                           0.89      2000\n",
      "      macro avg       0.89      0.90      0.89      2000\n",
      "   weighted avg       0.89      0.89      0.89      2000\n",
      "\n"
     ]
    }
   ],
   "source": [
    "# define the models\n",
    "models = {\n",
    "    'Random Forest': RandomForestClassifier(n_estimators=100, random_state=42),\n",
    "    'Logistic Regression': LogisticRegression(max_iter=200, random_state=42),\n",
    "    'Support Vector Machine': SVC(random_state=42),\n",
    "    'K-Nearest Neighbors': KNeighborsClassifier()\n",
    "}\n",
    "\n",
    "# evaluate each model\n",
    "for model_name, model in models.items():\n",
    "    # Build a pipeline with preprocessing and model\n",
    "    model_pipeline = Pipeline(steps=[\n",
    "        ('preprocessor', preprocessor),\n",
    "        ('scaler', StandardScaler()),\n",
    "        ('classifier', model)\n",
    "    ])\n",
    "    \n",
    "    # Train the model\n",
    "    model_pipeline.fit(X_train, y_train)\n",
    "    y_pred = model_pipeline.predict(X_test)\n",
    "    accuracy = accuracy_score(y_test, y_pred)\n",
    "    print(f'\\nModel: {model_name}')\n",
    "    print(f'Accuracy: {accuracy * 100:.2f}%')\n",
    "    \n",
    "    # convert the label encoded classes back to original species names\n",
    "    target_names = label_encoder.inverse_transform(range(len(label_encoder.classes_)))\n",
    "    print('Classification Report:')\n",
    "    print(classification_report(y_test, y_pred, target_names=target_names))"
   ]
  }
 ],
 "metadata": {
  "kaggle": {
   "accelerator": "none",
   "dataSources": [
    {
     "datasetId": 5445916,
     "sourceId": 9034652,
     "sourceType": "datasetVersion"
    }
   ],
   "dockerImageVersionId": 30746,
   "isGpuEnabled": false,
   "isInternetEnabled": true,
   "language": "python",
   "sourceType": "notebook"
  },
  "kernelspec": {
   "display_name": "Python 3",
   "language": "python",
   "name": "python3"
  },
  "language_info": {
   "codemirror_mode": {
    "name": "ipython",
    "version": 3
   },
   "file_extension": ".py",
   "mimetype": "text/x-python",
   "name": "python",
   "nbconvert_exporter": "python",
   "pygments_lexer": "ipython3",
   "version": "3.10.13"
  },
  "papermill": {
   "default_parameters": {},
   "duration": 9.123303,
   "end_time": "2024-07-30T11:44:04.726628",
   "environment_variables": {},
   "exception": null,
   "input_path": "__notebook__.ipynb",
   "output_path": "__notebook__.ipynb",
   "parameters": {},
   "start_time": "2024-07-30T11:43:55.603325",
   "version": "2.5.0"
  }
 },
 "nbformat": 4,
 "nbformat_minor": 5
}
